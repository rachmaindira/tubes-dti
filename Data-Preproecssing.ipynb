{
  "nbformat": 4,
  "nbformat_minor": 0,
  "metadata": {
    "colab": {
      "name": "Untitled116.ipynb",
      "provenance": [],
      "authorship_tag": "ABX9TyO/lGN7ETf0Dv08yOKyHLoM",
      "include_colab_link": true
    },
    "kernelspec": {
      "name": "python3",
      "display_name": "Python 3"
    }
  },
  "cells": [
    {
      "cell_type": "markdown",
      "metadata": {
        "id": "view-in-github",
        "colab_type": "text"
      },
      "source": [
        "<a href=\"https://colab.research.google.com/github/lokihaha7/tubes-dti/blob/master/Data-Preproecssing.ipynb\" target=\"_parent\"><img src=\"https://colab.research.google.com/assets/colab-badge.svg\" alt=\"Open In Colab\"/></a>"
      ]
    },
    {
      "cell_type": "code",
      "metadata": {
        "id": "2HvjoVXwQBsf"
      },
      "source": [
        "import pandas as pd\n",
        "import numpy as np\n",
        "import seaborn as sns\n",
        "import matplotlib.pyplot as plt"
      ],
      "execution_count": 98,
      "outputs": []
    },
    {
      "cell_type": "code",
      "metadata": {
        "id": "Yvv54emOQM4_"
      },
      "source": [
        "data = pd.read_csv('train_u6lujuX_CVtuZ9i (1).csv')"
      ],
      "execution_count": 99,
      "outputs": []
    },
    {
      "cell_type": "code",
      "metadata": {
        "colab": {
          "base_uri": "https://localhost:8080/",
          "height": 457
        },
        "id": "S_ecZCztQ9iM",
        "outputId": "186d7405-341a-404d-cb05-fce4487d2e1a"
      },
      "source": [
        "data"
      ],
      "execution_count": 100,
      "outputs": [
        {
          "output_type": "execute_result",
          "data": {
            "text/html": [
              "<div>\n",
              "<style scoped>\n",
              "    .dataframe tbody tr th:only-of-type {\n",
              "        vertical-align: middle;\n",
              "    }\n",
              "\n",
              "    .dataframe tbody tr th {\n",
              "        vertical-align: top;\n",
              "    }\n",
              "\n",
              "    .dataframe thead th {\n",
              "        text-align: right;\n",
              "    }\n",
              "</style>\n",
              "<table border=\"1\" class=\"dataframe\">\n",
              "  <thead>\n",
              "    <tr style=\"text-align: right;\">\n",
              "      <th></th>\n",
              "      <th>Loan_ID</th>\n",
              "      <th>Gender</th>\n",
              "      <th>Married</th>\n",
              "      <th>Dependents</th>\n",
              "      <th>Education</th>\n",
              "      <th>Self_Employed</th>\n",
              "      <th>ApplicantIncome</th>\n",
              "      <th>CoapplicantIncome</th>\n",
              "      <th>LoanAmount</th>\n",
              "      <th>Loan_Amount_Term</th>\n",
              "      <th>Credit_History</th>\n",
              "      <th>Property_Area</th>\n",
              "      <th>Loan_Status</th>\n",
              "    </tr>\n",
              "  </thead>\n",
              "  <tbody>\n",
              "    <tr>\n",
              "      <th>0</th>\n",
              "      <td>LP001002</td>\n",
              "      <td>Male</td>\n",
              "      <td>No</td>\n",
              "      <td>0</td>\n",
              "      <td>Graduate</td>\n",
              "      <td>No</td>\n",
              "      <td>5849</td>\n",
              "      <td>0.0</td>\n",
              "      <td>NaN</td>\n",
              "      <td>360.0</td>\n",
              "      <td>1.0</td>\n",
              "      <td>Urban</td>\n",
              "      <td>Y</td>\n",
              "    </tr>\n",
              "    <tr>\n",
              "      <th>1</th>\n",
              "      <td>LP001003</td>\n",
              "      <td>Male</td>\n",
              "      <td>Yes</td>\n",
              "      <td>1</td>\n",
              "      <td>Graduate</td>\n",
              "      <td>No</td>\n",
              "      <td>4583</td>\n",
              "      <td>1508.0</td>\n",
              "      <td>128.0</td>\n",
              "      <td>360.0</td>\n",
              "      <td>1.0</td>\n",
              "      <td>Rural</td>\n",
              "      <td>N</td>\n",
              "    </tr>\n",
              "    <tr>\n",
              "      <th>2</th>\n",
              "      <td>LP001005</td>\n",
              "      <td>Male</td>\n",
              "      <td>Yes</td>\n",
              "      <td>0</td>\n",
              "      <td>Graduate</td>\n",
              "      <td>Yes</td>\n",
              "      <td>3000</td>\n",
              "      <td>0.0</td>\n",
              "      <td>66.0</td>\n",
              "      <td>360.0</td>\n",
              "      <td>1.0</td>\n",
              "      <td>Urban</td>\n",
              "      <td>Y</td>\n",
              "    </tr>\n",
              "    <tr>\n",
              "      <th>3</th>\n",
              "      <td>LP001006</td>\n",
              "      <td>Male</td>\n",
              "      <td>Yes</td>\n",
              "      <td>0</td>\n",
              "      <td>Not Graduate</td>\n",
              "      <td>No</td>\n",
              "      <td>2583</td>\n",
              "      <td>2358.0</td>\n",
              "      <td>120.0</td>\n",
              "      <td>360.0</td>\n",
              "      <td>1.0</td>\n",
              "      <td>Urban</td>\n",
              "      <td>Y</td>\n",
              "    </tr>\n",
              "    <tr>\n",
              "      <th>4</th>\n",
              "      <td>LP001008</td>\n",
              "      <td>Male</td>\n",
              "      <td>No</td>\n",
              "      <td>0</td>\n",
              "      <td>Graduate</td>\n",
              "      <td>No</td>\n",
              "      <td>6000</td>\n",
              "      <td>0.0</td>\n",
              "      <td>141.0</td>\n",
              "      <td>360.0</td>\n",
              "      <td>1.0</td>\n",
              "      <td>Urban</td>\n",
              "      <td>Y</td>\n",
              "    </tr>\n",
              "    <tr>\n",
              "      <th>...</th>\n",
              "      <td>...</td>\n",
              "      <td>...</td>\n",
              "      <td>...</td>\n",
              "      <td>...</td>\n",
              "      <td>...</td>\n",
              "      <td>...</td>\n",
              "      <td>...</td>\n",
              "      <td>...</td>\n",
              "      <td>...</td>\n",
              "      <td>...</td>\n",
              "      <td>...</td>\n",
              "      <td>...</td>\n",
              "      <td>...</td>\n",
              "    </tr>\n",
              "    <tr>\n",
              "      <th>609</th>\n",
              "      <td>LP002978</td>\n",
              "      <td>Female</td>\n",
              "      <td>No</td>\n",
              "      <td>0</td>\n",
              "      <td>Graduate</td>\n",
              "      <td>No</td>\n",
              "      <td>2900</td>\n",
              "      <td>0.0</td>\n",
              "      <td>71.0</td>\n",
              "      <td>360.0</td>\n",
              "      <td>1.0</td>\n",
              "      <td>Rural</td>\n",
              "      <td>Y</td>\n",
              "    </tr>\n",
              "    <tr>\n",
              "      <th>610</th>\n",
              "      <td>LP002979</td>\n",
              "      <td>Male</td>\n",
              "      <td>Yes</td>\n",
              "      <td>3+</td>\n",
              "      <td>Graduate</td>\n",
              "      <td>No</td>\n",
              "      <td>4106</td>\n",
              "      <td>0.0</td>\n",
              "      <td>40.0</td>\n",
              "      <td>180.0</td>\n",
              "      <td>1.0</td>\n",
              "      <td>Rural</td>\n",
              "      <td>Y</td>\n",
              "    </tr>\n",
              "    <tr>\n",
              "      <th>611</th>\n",
              "      <td>LP002983</td>\n",
              "      <td>Male</td>\n",
              "      <td>Yes</td>\n",
              "      <td>1</td>\n",
              "      <td>Graduate</td>\n",
              "      <td>No</td>\n",
              "      <td>8072</td>\n",
              "      <td>240.0</td>\n",
              "      <td>253.0</td>\n",
              "      <td>360.0</td>\n",
              "      <td>1.0</td>\n",
              "      <td>Urban</td>\n",
              "      <td>Y</td>\n",
              "    </tr>\n",
              "    <tr>\n",
              "      <th>612</th>\n",
              "      <td>LP002984</td>\n",
              "      <td>Male</td>\n",
              "      <td>Yes</td>\n",
              "      <td>2</td>\n",
              "      <td>Graduate</td>\n",
              "      <td>No</td>\n",
              "      <td>7583</td>\n",
              "      <td>0.0</td>\n",
              "      <td>187.0</td>\n",
              "      <td>360.0</td>\n",
              "      <td>1.0</td>\n",
              "      <td>Urban</td>\n",
              "      <td>Y</td>\n",
              "    </tr>\n",
              "    <tr>\n",
              "      <th>613</th>\n",
              "      <td>LP002990</td>\n",
              "      <td>Female</td>\n",
              "      <td>No</td>\n",
              "      <td>0</td>\n",
              "      <td>Graduate</td>\n",
              "      <td>Yes</td>\n",
              "      <td>4583</td>\n",
              "      <td>0.0</td>\n",
              "      <td>133.0</td>\n",
              "      <td>360.0</td>\n",
              "      <td>0.0</td>\n",
              "      <td>Semiurban</td>\n",
              "      <td>N</td>\n",
              "    </tr>\n",
              "  </tbody>\n",
              "</table>\n",
              "<p>614 rows × 13 columns</p>\n",
              "</div>"
            ],
            "text/plain": [
              "      Loan_ID  Gender Married  ... Credit_History Property_Area Loan_Status\n",
              "0    LP001002    Male      No  ...            1.0         Urban           Y\n",
              "1    LP001003    Male     Yes  ...            1.0         Rural           N\n",
              "2    LP001005    Male     Yes  ...            1.0         Urban           Y\n",
              "3    LP001006    Male     Yes  ...            1.0         Urban           Y\n",
              "4    LP001008    Male      No  ...            1.0         Urban           Y\n",
              "..        ...     ...     ...  ...            ...           ...         ...\n",
              "609  LP002978  Female      No  ...            1.0         Rural           Y\n",
              "610  LP002979    Male     Yes  ...            1.0         Rural           Y\n",
              "611  LP002983    Male     Yes  ...            1.0         Urban           Y\n",
              "612  LP002984    Male     Yes  ...            1.0         Urban           Y\n",
              "613  LP002990  Female      No  ...            0.0     Semiurban           N\n",
              "\n",
              "[614 rows x 13 columns]"
            ]
          },
          "metadata": {
            "tags": []
          },
          "execution_count": 100
        }
      ]
    },
    {
      "cell_type": "code",
      "metadata": {
        "colab": {
          "base_uri": "https://localhost:8080/"
        },
        "id": "SiPEHOapQRCh",
        "outputId": "2c72005c-9125-4945-944c-55085f103ed3"
      },
      "source": [
        "data.isnull().sum()"
      ],
      "execution_count": 101,
      "outputs": [
        {
          "output_type": "execute_result",
          "data": {
            "text/plain": [
              "Loan_ID               0\n",
              "Gender               13\n",
              "Married               3\n",
              "Dependents           15\n",
              "Education             0\n",
              "Self_Employed        32\n",
              "ApplicantIncome       0\n",
              "CoapplicantIncome     0\n",
              "LoanAmount           22\n",
              "Loan_Amount_Term     14\n",
              "Credit_History       50\n",
              "Property_Area         0\n",
              "Loan_Status           0\n",
              "dtype: int64"
            ]
          },
          "metadata": {
            "tags": []
          },
          "execution_count": 101
        }
      ]
    },
    {
      "cell_type": "code",
      "metadata": {
        "id": "Qxnmm731YLLW"
      },
      "source": [
        "data = data.drop(['Loan_ID'], axis=1)"
      ],
      "execution_count": 102,
      "outputs": []
    },
    {
      "cell_type": "code",
      "metadata": {
        "id": "UVT6Qt_JSF0Y"
      },
      "source": [
        "data['Dependents'] = data['Dependents'].fillna(data['Dependents'].mode()[0])\n",
        "data['Married'] = data['Married'].fillna(data['Married'].mode()[0])\n",
        "data['Self_Employed'] = data['Self_Employed'].fillna(data['Self_Employed'].mode()[0])\n",
        "data['Gender'] = data['Gender'].fillna(data['Gender'].mode()[0])\n",
        "data['Credit_History'] = data['Credit_History'].fillna(data['Credit_History'].mode()[0])"
      ],
      "execution_count": 103,
      "outputs": []
    },
    {
      "cell_type": "code",
      "metadata": {
        "id": "MsefIebRSj3e"
      },
      "source": [
        "data ['LoanAmount'] = data['LoanAmount'].replace(np.NaN , data['LoanAmount'].mean())\n",
        "data ['Loan_Amount_Term'] = data['Loan_Amount_Term'].replace(np.NaN , data['Loan_Amount_Term'].mean())"
      ],
      "execution_count": 104,
      "outputs": []
    },
    {
      "cell_type": "code",
      "metadata": {
        "colab": {
          "base_uri": "https://localhost:8080/"
        },
        "id": "prHUQkcbWqZ3",
        "outputId": "77861df8-4ff4-4869-b0f8-8084d8319f4f"
      },
      "source": [
        "data.dtypes\n"
      ],
      "execution_count": 105,
      "outputs": [
        {
          "output_type": "execute_result",
          "data": {
            "text/plain": [
              "Gender                object\n",
              "Married               object\n",
              "Dependents            object\n",
              "Education             object\n",
              "Self_Employed         object\n",
              "ApplicantIncome        int64\n",
              "CoapplicantIncome    float64\n",
              "LoanAmount           float64\n",
              "Loan_Amount_Term     float64\n",
              "Credit_History       float64\n",
              "Property_Area         object\n",
              "Loan_Status           object\n",
              "dtype: object"
            ]
          },
          "metadata": {
            "tags": []
          },
          "execution_count": 105
        }
      ]
    },
    {
      "cell_type": "code",
      "metadata": {
        "colab": {
          "base_uri": "https://localhost:8080/"
        },
        "id": "B_yOxYHLXe8t",
        "outputId": "a8432c6c-a599-4fe3-e42f-cf6aabb54145"
      },
      "source": [
        "g=data.groupby('Property_Area')['Property_Area']\n",
        "\n",
        "g.count()"
      ],
      "execution_count": 106,
      "outputs": [
        {
          "output_type": "execute_result",
          "data": {
            "text/plain": [
              "Property_Area\n",
              "Rural        179\n",
              "Semiurban    233\n",
              "Urban        202\n",
              "Name: Property_Area, dtype: int64"
            ]
          },
          "metadata": {
            "tags": []
          },
          "execution_count": 106
        }
      ]
    },
    {
      "cell_type": "code",
      "metadata": {
        "id": "Ve1J2v3jW4wK"
      },
      "source": [
        "data['Gender'] = data['Gender'].map({'Male':1, 'Female':0})\n",
        "data['Self_Employed'] = data['Self_Employed'].map({'Yes':1, 'No':0})\n",
        "data['Education'] = data['Education'].map({'Graduate':1, 'Not Graduate':0})\n",
        "data['Loan_Status'] = data['Loan_Status'].map({'Y':1, 'N':0})\n",
        "data['Property_Area'] = data['Property_Area'].map({'Rural':1, 'Semiurban':0,'Urban':2})\n"
      ],
      "execution_count": 107,
      "outputs": []
    },
    {
      "cell_type": "code",
      "metadata": {
        "colab": {
          "base_uri": "https://localhost:8080/",
          "height": 1000
        },
        "id": "r2yC5os-Tu3u",
        "outputId": "7aa86dc0-3ad2-4773-e688-4f5735e2d7db"
      },
      "source": [
        "# data.hist()\n",
        "\n",
        "fig = plt.figure(figsize = (15,20))\n",
        "ax = fig.gca()\n",
        "data.hist(ax = ax)"
      ],
      "execution_count": 108,
      "outputs": [
        {
          "output_type": "stream",
          "text": [
            "/usr/local/lib/python3.6/dist-packages/ipykernel_launcher.py:5: UserWarning: To output multiple subplots, the figure containing the passed axes is being cleared\n",
            "  \"\"\"\n"
          ],
          "name": "stderr"
        },
        {
          "output_type": "execute_result",
          "data": {
            "text/plain": [
              "array([[<matplotlib.axes._subplots.AxesSubplot object at 0x7fb6edd60780>,\n",
              "        <matplotlib.axes._subplots.AxesSubplot object at 0x7fb6edd2a278>,\n",
              "        <matplotlib.axes._subplots.AxesSubplot object at 0x7fb6ec9d54e0>],\n",
              "       [<matplotlib.axes._subplots.AxesSubplot object at 0x7fb6ec980cc0>,\n",
              "        <matplotlib.axes._subplots.AxesSubplot object at 0x7fb6ec9be080>,\n",
              "        <matplotlib.axes._subplots.AxesSubplot object at 0x7fb6ec96c400>],\n",
              "       [<matplotlib.axes._subplots.AxesSubplot object at 0x7fb6ec91b780>,\n",
              "        <matplotlib.axes._subplots.AxesSubplot object at 0x7fb6ec8c8ac8>,\n",
              "        <matplotlib.axes._subplots.AxesSubplot object at 0x7fb6ec8c8b38>],\n",
              "       [<matplotlib.axes._subplots.AxesSubplot object at 0x7fb6ec8b3240>,\n",
              "        <matplotlib.axes._subplots.AxesSubplot object at 0x7fb6ec8645c0>,\n",
              "        <matplotlib.axes._subplots.AxesSubplot object at 0x7fb6ec815940>]],\n",
              "      dtype=object)"
            ]
          },
          "metadata": {
            "tags": []
          },
          "execution_count": 108
        },
        {
          "output_type": "display_data",
          "data": {
            "image/png": "[encoded data removed]",
            "text/plain": [
              "<Figure size 1080x1440 with 12 Axes>"
            ]
          },
          "metadata": {
            "tags": [],
            "needs_background": "light"
          }
        }
      ]
    },
    {
      "cell_type": "code",
      "metadata": {
        "colab": {
          "base_uri": "https://localhost:8080/",
          "height": 356
        },
        "id": "BdwjSYxbT76a",
        "outputId": "ddc17438-e007-423e-c525-9e0b633f5c01"
      },
      "source": [
        "sns.heatmap(data.corr());"
      ],
      "execution_count": 109,
      "outputs": [
        {
          "output_type": "display_data",
          "data": {
            "image/png": "[encoded data removed]",
            "text/plain": [
              "<Figure size 432x288 with 2 Axes>"
            ]
          },
          "metadata": {
            "tags": [],
            "needs_background": "light"
          }
        }
      ]
    },
    {
      "cell_type": "code",
      "metadata": {
        "colab": {
          "base_uri": "https://localhost:8080/",
          "height": 379
        },
        "id": "oxji9bAuUKV7",
        "outputId": "e566743a-abe8-43b4-c0bc-fdb987218eda"
      },
      "source": [
        "data.corr()"
      ],
      "execution_count": 110,
      "outputs": [
        {
          "output_type": "execute_result",
          "data": {
            "text/html": [
              "<div>\n",
              "<style scoped>\n",
              "    .dataframe tbody tr th:only-of-type {\n",
              "        vertical-align: middle;\n",
              "    }\n",
              "\n",
              "    .dataframe tbody tr th {\n",
              "        vertical-align: top;\n",
              "    }\n",
              "\n",
              "    .dataframe thead th {\n",
              "        text-align: right;\n",
              "    }\n",
              "</style>\n",
              "<table border=\"1\" class=\"dataframe\">\n",
              "  <thead>\n",
              "    <tr style=\"text-align: right;\">\n",
              "      <th></th>\n",
              "      <th>Gender</th>\n",
              "      <th>Education</th>\n",
              "      <th>Self_Employed</th>\n",
              "      <th>ApplicantIncome</th>\n",
              "      <th>CoapplicantIncome</th>\n",
              "      <th>LoanAmount</th>\n",
              "      <th>Loan_Amount_Term</th>\n",
              "      <th>Credit_History</th>\n",
              "      <th>Property_Area</th>\n",
              "      <th>Loan_Status</th>\n",
              "    </tr>\n",
              "  </thead>\n",
              "  <tbody>\n",
              "    <tr>\n",
              "      <th>Gender</th>\n",
              "      <td>1.000000</td>\n",
              "      <td>-0.045364</td>\n",
              "      <td>-0.000525</td>\n",
              "      <td>0.058809</td>\n",
              "      <td>0.082912</td>\n",
              "      <td>0.107930</td>\n",
              "      <td>-0.073567</td>\n",
              "      <td>0.009170</td>\n",
              "      <td>0.082045</td>\n",
              "      <td>0.017987</td>\n",
              "    </tr>\n",
              "    <tr>\n",
              "      <th>Education</th>\n",
              "      <td>-0.045364</td>\n",
              "      <td>1.000000</td>\n",
              "      <td>0.010383</td>\n",
              "      <td>0.140760</td>\n",
              "      <td>0.062290</td>\n",
              "      <td>0.166998</td>\n",
              "      <td>0.077242</td>\n",
              "      <td>0.073658</td>\n",
              "      <td>-0.003592</td>\n",
              "      <td>0.085884</td>\n",
              "    </tr>\n",
              "    <tr>\n",
              "      <th>Self_Employed</th>\n",
              "      <td>-0.000525</td>\n",
              "      <td>0.010383</td>\n",
              "      <td>1.000000</td>\n",
              "      <td>0.127180</td>\n",
              "      <td>-0.016100</td>\n",
              "      <td>0.115260</td>\n",
              "      <td>-0.033943</td>\n",
              "      <td>-0.001550</td>\n",
              "      <td>-0.021996</td>\n",
              "      <td>-0.003700</td>\n",
              "    </tr>\n",
              "    <tr>\n",
              "      <th>ApplicantIncome</th>\n",
              "      <td>0.058809</td>\n",
              "      <td>0.140760</td>\n",
              "      <td>0.127180</td>\n",
              "      <td>1.000000</td>\n",
              "      <td>-0.116605</td>\n",
              "      <td>0.565620</td>\n",
              "      <td>-0.045242</td>\n",
              "      <td>-0.018615</td>\n",
              "      <td>0.007894</td>\n",
              "      <td>-0.004710</td>\n",
              "    </tr>\n",
              "    <tr>\n",
              "      <th>CoapplicantIncome</th>\n",
              "      <td>0.082912</td>\n",
              "      <td>0.062290</td>\n",
              "      <td>-0.016100</td>\n",
              "      <td>-0.116605</td>\n",
              "      <td>1.000000</td>\n",
              "      <td>0.187828</td>\n",
              "      <td>-0.059675</td>\n",
              "      <td>0.011134</td>\n",
              "      <td>0.028356</td>\n",
              "      <td>-0.059187</td>\n",
              "    </tr>\n",
              "    <tr>\n",
              "      <th>LoanAmount</th>\n",
              "      <td>0.107930</td>\n",
              "      <td>0.166998</td>\n",
              "      <td>0.115260</td>\n",
              "      <td>0.565620</td>\n",
              "      <td>0.187828</td>\n",
              "      <td>1.000000</td>\n",
              "      <td>0.038801</td>\n",
              "      <td>-0.001431</td>\n",
              "      <td>-0.013799</td>\n",
              "      <td>-0.036416</td>\n",
              "    </tr>\n",
              "    <tr>\n",
              "      <th>Loan_Amount_Term</th>\n",
              "      <td>-0.073567</td>\n",
              "      <td>0.077242</td>\n",
              "      <td>-0.033943</td>\n",
              "      <td>-0.045242</td>\n",
              "      <td>-0.059675</td>\n",
              "      <td>0.038801</td>\n",
              "      <td>1.000000</td>\n",
              "      <td>0.000432</td>\n",
              "      <td>-0.089508</td>\n",
              "      <td>-0.020974</td>\n",
              "    </tr>\n",
              "    <tr>\n",
              "      <th>Credit_History</th>\n",
              "      <td>0.009170</td>\n",
              "      <td>0.073658</td>\n",
              "      <td>-0.001550</td>\n",
              "      <td>-0.018615</td>\n",
              "      <td>0.011134</td>\n",
              "      <td>-0.001431</td>\n",
              "      <td>0.000432</td>\n",
              "      <td>1.000000</td>\n",
              "      <td>-0.030248</td>\n",
              "      <td>0.540556</td>\n",
              "    </tr>\n",
              "    <tr>\n",
              "      <th>Property_Area</th>\n",
              "      <td>0.082045</td>\n",
              "      <td>-0.003592</td>\n",
              "      <td>-0.021996</td>\n",
              "      <td>0.007894</td>\n",
              "      <td>0.028356</td>\n",
              "      <td>-0.013799</td>\n",
              "      <td>-0.089508</td>\n",
              "      <td>-0.030248</td>\n",
              "      <td>1.000000</td>\n",
              "      <td>-0.103253</td>\n",
              "    </tr>\n",
              "    <tr>\n",
              "      <th>Loan_Status</th>\n",
              "      <td>0.017987</td>\n",
              "      <td>0.085884</td>\n",
              "      <td>-0.003700</td>\n",
              "      <td>-0.004710</td>\n",
              "      <td>-0.059187</td>\n",
              "      <td>-0.036416</td>\n",
              "      <td>-0.020974</td>\n",
              "      <td>0.540556</td>\n",
              "      <td>-0.103253</td>\n",
              "      <td>1.000000</td>\n",
              "    </tr>\n",
              "  </tbody>\n",
              "</table>\n",
              "</div>"
            ],
            "text/plain": [
              "                     Gender  Education  ...  Property_Area  Loan_Status\n",
              "Gender             1.000000  -0.045364  ...       0.082045     0.017987\n",
              "Education         -0.045364   1.000000  ...      -0.003592     0.085884\n",
              "Self_Employed     -0.000525   0.010383  ...      -0.021996    -0.003700\n",
              "ApplicantIncome    0.058809   0.140760  ...       0.007894    -0.004710\n",
              "CoapplicantIncome  0.082912   0.062290  ...       0.028356    -0.059187\n",
              "LoanAmount         0.107930   0.166998  ...      -0.013799    -0.036416\n",
              "Loan_Amount_Term  -0.073567   0.077242  ...      -0.089508    -0.020974\n",
              "Credit_History     0.009170   0.073658  ...      -0.030248     0.540556\n",
              "Property_Area      0.082045  -0.003592  ...       1.000000    -0.103253\n",
              "Loan_Status        0.017987   0.085884  ...      -0.103253     1.000000\n",
              "\n",
              "[10 rows x 10 columns]"
            ]
          },
          "metadata": {
            "tags": []
          },
          "execution_count": 110
        }
      ]
    }
  ]
}